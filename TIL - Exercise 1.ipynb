{
 "cells": [
  {
   "cell_type": "code",
   "execution_count": 58,
   "metadata": {},
   "outputs": [
    {
     "name": "stdout",
     "output_type": "stream",
     "text": [
      "1 6\n",
      "6 24\n",
      "4 36\n",
      "1 4\n",
      "Success! 1 4\n"
     ]
    }
   ],
   "source": [
    "import random\n",
    "\n",
    "def theInfoLab():\n",
    "\n",
    "    C = int()\n",
    "\n",
    "    while C != 4:\n",
    "        A = random.randint(1, 9)\n",
    "        B = random.randint(1, 9)\n",
    "        C = A * B\n",
    "        print(A, C)\n",
    "\n",
    "    print(\"Success!\", A, B)\n",
    "\n",
    "theInfoLab()\n",
    "\n"
   ]
  }
 ],
 "metadata": {
  "kernelspec": {
   "display_name": "Python 3",
   "language": "python",
   "name": "python3"
  },
  "language_info": {
   "codemirror_mode": {
    "name": "ipython",
    "version": 3
   },
   "file_extension": ".py",
   "mimetype": "text/x-python",
   "name": "python",
   "nbconvert_exporter": "python",
   "pygments_lexer": "ipython3",
   "version": "3.11.4"
  },
  "orig_nbformat": 4
 },
 "nbformat": 4,
 "nbformat_minor": 2
}
